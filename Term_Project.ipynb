{
 "cells": [
  {
   "cell_type": "markdown",
   "id": "6a4da04c-cf70-41cf-b99f-167daf4b631a",
   "metadata": {},
   "source": [
    "### Imports Here"
   ]
  },
  {
   "cell_type": "code",
   "execution_count": 1,
   "id": "e7a183c1-aa57-432e-afd8-77d4beab2646",
   "metadata": {
    "tags": []
   },
   "outputs": [],
   "source": [
    "import numpy as np\n",
    "import pandas as pd\n",
    "import matplotlib.pyplot as plt\n",
    "import seaborn as sns"
   ]
  },
  {
   "cell_type": "code",
   "execution_count": null,
   "id": "3fa1bc48-6d82-4de9-8f67-3b366aa7141f",
   "metadata": {},
   "outputs": [],
   "source": []
  }
 ],
 "metadata": {
  "kernelspec": {
   "display_name": "Python 3 (ipykernel)",
   "language": "python",
   "name": "python3"
  },
  "language_info": {
   "codemirror_mode": {
    "name": "ipython",
    "version": 3
   },
   "file_extension": ".py",
   "mimetype": "text/x-python",
   "name": "python",
   "nbconvert_exporter": "python",
   "pygments_lexer": "ipython3",
   "version": "3.11.4"
  }
 },
 "nbformat": 4,
 "nbformat_minor": 5
}
